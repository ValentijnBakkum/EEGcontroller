{
 "cells": [
  {
   "cell_type": "markdown",
   "metadata": {},
   "source": [
    "Kan module for classification of EEG signals"
   ]
  },
  {
   "cell_type": "code",
   "execution_count": 39,
   "metadata": {},
   "outputs": [],
   "source": [
    "import torch\n",
    "import torch.nn as nn\n",
    "from kan import KAN\n",
    "import torch.nn.functional as F\n",
    "from torchinfo import summary"
   ]
  },
  {
   "cell_type": "code",
   "execution_count": 55,
   "metadata": {},
   "outputs": [],
   "source": [
    "class kanmodule(nn.Module):\n",
    "    def __init__(self,channels=16):\n",
    "        super(kanmodule,self).__init__()\n",
    "        self.kan1 = KAN([529,40,4])\n",
    "        self.kan2 = KAN([4,40,5])\n",
    "        self.kan = nn.Sequential(KAN([529,40,5]),KAN([5,40,10]))\n",
    "        self.net = nn.ModuleList([self.kan for _ in range(channels)])\n",
    "        self.flatten = nn.Flatten()\n",
    "        self.nn = self.create_nn()\n",
    "    def forward(self,x):\n",
    "        N,C,H,W = x.shape\n",
    "        xa = torch.squeeze(x)\n",
    "        list = []\n",
    "        xa = xa.permute((2,0,1))\n",
    "        '''\n",
    "        for _ in range(W):\n",
    "            int2 = self.kan1(xa[_])\n",
    "            int2 = self.kan2(int2)\n",
    "            list.append(int2)\n",
    "        output = torch.stack(list)\n",
    "        output = output.permute((1,2,0))\n",
    "        output = self.flatten(output)'''\n",
    "        print(xa.shape)\n",
    "        i = 0\n",
    "        list = []\n",
    "        for h in self.net:\n",
    "            int2 =  h(xa[i])\n",
    "            i = i +1\n",
    "            list.append(int2)\n",
    "        output = torch.stack(list)\n",
    "        print(output.shape)\n",
    "        output = output.permute((1,2,0))\n",
    "        output = self.flatten(output)\n",
    "        return self.nn(output)\n",
    "    def create_nn(self): #creates the nn used in the model\n",
    "        return nn.Sequential(nn.Flatten(),\n",
    "                             nn.Linear(160,512,bias=True),\n",
    "                             nn.Dropout(p=0.3),\n",
    "                             nn.LeakyReLU(),\n",
    "                             nn.Linear(512,16,bias=True),\n",
    "                             #nn.Softmax()\n",
    "        )"
   ]
  },
  {
   "cell_type": "code",
   "execution_count": 56,
   "metadata": {},
   "outputs": [
    {
     "name": "stdout",
     "output_type": "stream",
     "text": [
      "torch.Size([16, 40, 529])\n",
      "torch.Size([16, 40, 10])\n"
     ]
    },
    {
     "data": {
      "text/plain": [
       "===============================================================================================\n",
       "Layer (type:depth-idx)                        Output Shape              Param #\n",
       "===============================================================================================\n",
       "kanmodule                                     [40, 16]                  216,800\n",
       "├─ModuleList: 1-1                             --                        --\n",
       "│    └─Sequential: 2-1                        [40, 10]                  --\n",
       "│    │    └─KAN: 3-1                          [40, 5]                   213,600\n",
       "│    │    └─KAN: 3-2                          [40, 10]                  6,000\n",
       "│    └─Sequential: 2-2                        [40, 10]                  (recursive)\n",
       "│    │    └─KAN: 3-3                          [40, 5]                   (recursive)\n",
       "│    │    └─KAN: 3-4                          [40, 10]                  (recursive)\n",
       "│    └─Sequential: 2-3                        [40, 10]                  (recursive)\n",
       "│    │    └─KAN: 3-5                          [40, 5]                   (recursive)\n",
       "│    │    └─KAN: 3-6                          [40, 10]                  (recursive)\n",
       "│    └─Sequential: 2-4                        [40, 10]                  (recursive)\n",
       "│    │    └─KAN: 3-7                          [40, 5]                   (recursive)\n",
       "│    │    └─KAN: 3-8                          [40, 10]                  (recursive)\n",
       "│    └─Sequential: 2-5                        [40, 10]                  (recursive)\n",
       "│    │    └─KAN: 3-9                          [40, 5]                   (recursive)\n",
       "│    │    └─KAN: 3-10                         [40, 10]                  (recursive)\n",
       "│    └─Sequential: 2-6                        [40, 10]                  (recursive)\n",
       "│    │    └─KAN: 3-11                         [40, 5]                   (recursive)\n",
       "│    │    └─KAN: 3-12                         [40, 10]                  (recursive)\n",
       "│    └─Sequential: 2-7                        [40, 10]                  (recursive)\n",
       "│    │    └─KAN: 3-13                         [40, 5]                   (recursive)\n",
       "│    │    └─KAN: 3-14                         [40, 10]                  (recursive)\n",
       "│    └─Sequential: 2-8                        [40, 10]                  (recursive)\n",
       "│    │    └─KAN: 3-15                         [40, 5]                   (recursive)\n",
       "│    │    └─KAN: 3-16                         [40, 10]                  (recursive)\n",
       "│    └─Sequential: 2-9                        [40, 10]                  (recursive)\n",
       "│    │    └─KAN: 3-17                         [40, 5]                   (recursive)\n",
       "│    │    └─KAN: 3-18                         [40, 10]                  (recursive)\n",
       "│    └─Sequential: 2-10                       [40, 10]                  (recursive)\n",
       "│    │    └─KAN: 3-19                         [40, 5]                   (recursive)\n",
       "│    │    └─KAN: 3-20                         [40, 10]                  (recursive)\n",
       "│    └─Sequential: 2-11                       [40, 10]                  (recursive)\n",
       "│    │    └─KAN: 3-21                         [40, 5]                   (recursive)\n",
       "│    │    └─KAN: 3-22                         [40, 10]                  (recursive)\n",
       "│    └─Sequential: 2-12                       [40, 10]                  (recursive)\n",
       "│    │    └─KAN: 3-23                         [40, 5]                   (recursive)\n",
       "│    │    └─KAN: 3-24                         [40, 10]                  (recursive)\n",
       "│    └─Sequential: 2-13                       [40, 10]                  (recursive)\n",
       "│    │    └─KAN: 3-25                         [40, 5]                   (recursive)\n",
       "│    │    └─KAN: 3-26                         [40, 10]                  (recursive)\n",
       "│    └─Sequential: 2-14                       [40, 10]                  (recursive)\n",
       "│    │    └─KAN: 3-27                         [40, 5]                   (recursive)\n",
       "│    │    └─KAN: 3-28                         [40, 10]                  (recursive)\n",
       "│    └─Sequential: 2-15                       [40, 10]                  (recursive)\n",
       "│    │    └─KAN: 3-29                         [40, 5]                   (recursive)\n",
       "│    │    └─KAN: 3-30                         [40, 10]                  (recursive)\n",
       "│    └─Sequential: 2-16                       [40, 10]                  (recursive)\n",
       "│    │    └─KAN: 3-31                         [40, 5]                   (recursive)\n",
       "│    │    └─KAN: 3-32                         [40, 10]                  (recursive)\n",
       "├─Flatten: 1-2                                [40, 160]                 --\n",
       "├─Sequential: 1-3                             [40, 16]                  --\n",
       "│    └─Flatten: 2-17                          [40, 160]                 --\n",
       "│    └─Linear: 2-18                           [40, 512]                 82,432\n",
       "│    └─Dropout: 2-19                          [40, 512]                 --\n",
       "│    └─LeakyReLU: 2-20                        [40, 512]                 --\n",
       "│    └─Linear: 2-21                           [40, 16]                  8,208\n",
       "===============================================================================================\n",
       "Total params: 527,040\n",
       "Trainable params: 527,040\n",
       "Non-trainable params: 0\n",
       "Total mult-adds (M): 3.63\n",
       "===============================================================================================\n",
       "Input size (MB): 1.35\n",
       "Forward/backward pass size (MB): 0.17\n",
       "Params size (MB): 0.36\n",
       "Estimated Total Size (MB): 1.89\n",
       "==============================================================================================="
      ]
     },
     "execution_count": 56,
     "metadata": {},
     "output_type": "execute_result"
    },
    {
     "ename": "",
     "evalue": "",
     "output_type": "error",
     "traceback": [
      "\u001b[1;31mThe Kernel crashed while executing code in the current cell or a previous cell. \n",
      "\u001b[1;31mPlease review the code in the cell(s) to identify a possible cause of the failure. \n",
      "\u001b[1;31mClick <a href='https://aka.ms/vscodeJupyterKernelCrash'>here</a> for more info. \n",
      "\u001b[1;31mView Jupyter <a href='command:jupyter.viewOutput'>log</a> for further details."
     ]
    }
   ],
   "source": [
    "model = kanmodule()\n",
    "summary(model, (40,1,529,16))"
   ]
  }
 ],
 "metadata": {
  "kernelspec": {
   "display_name": "Python 3",
   "language": "python",
   "name": "python3"
  },
  "language_info": {
   "codemirror_mode": {
    "name": "ipython",
    "version": 3
   },
   "file_extension": ".py",
   "mimetype": "text/x-python",
   "name": "python",
   "nbconvert_exporter": "python",
   "pygments_lexer": "ipython3",
   "version": "3.10.11"
  }
 },
 "nbformat": 4,
 "nbformat_minor": 2
}
